{
 "cells": [
  {
   "cell_type": "markdown",
   "metadata": {},
   "source": [
    "# Unsupervised Learning\n",
    "\n",
    "Unsupervised machine learning is a type of learning that occurs when we only have features $X = \\{X_{ji}\\}$ but not labels $y_j$. \n",
    "\n",
    "These algorithms typically revolve around clustering, i.e. assigning each row $X_{j \\cdot}$ to a cluster $C_k$ such that the rows that share a cluster are more *similar* than ones from different clusters.  There are several ways to do this, some which require ground truth labeling and some which do not.  \n",
    "\n",
    "Variations of unsupervised algorithms are often used for dimension reduction, example: random projections."
   ]
  },
  {
   "cell_type": "markdown",
   "metadata": {},
   "source": [
    "## Metrics for Unsupervised Learning\n",
    "\n",
    "The simplest form is **Within Class Sum of Squares (WCSS)**, which is based on the 2nd moment of each cluster (mean centroids).  Let $\\mu_k$ be the mean centroids of all rows in cluster $k$, i.e. for all elements $X_{j \\cdot} \\in C_k$,\n",
    "$$\\mu_k = \\frac{1}{|C_k|} \\sum_{X_{j \\cdot} \\in C_k} X_{j \\cdot}.$$\n",
    "Then the WCSS is defined as the corresponding sum for each cluster:\n",
    "$$\\sum_k \\frac{1}{|C_k|} \\sum_{X_{j \\cdot} \\in C_k} \\| X_{j \\cdot} - \\mu_k\\|^2_2\\,.$$\n",
    "\n",
    "Another metric is called the **Silhouette Coefficient**.  If $a_j$ is the mean distance between a point $X_{j \\cdot}$ and the other points in the same cluster $C_k$ and $b_j$ is the mean is the distance between $X_{j \\cdot}$ and the other points in the next nearest cluster $C_k'$, then the coefficient is given by\n",
    "$$ \\frac{b-a}{\\max(a, b)}\\,. $$\n",
    "\n",
    "Assuming you have ground truth values $\\tilde C_k$ and predicted classification labels $C_k$, it is easy to calculate their **Mutual Information**.  Mutual information has deep ties to information theory [see the Wikipedia article](http://en.wikipedia.org/wiki/Mutual_Information).  If $N$ is the total number of samples (number of rows of $X$), we can define the probabilities\n",
    "$$ P_k = \\frac{|C_k|}{N} \\qquad \\tilde P_k = \\frac{|\\tilde C_k|}{N} \\qquad P_{k,l} = \\frac{|C_k \\cap \\tilde C_l|}{N} $$\n",
    "and then the mutual information is defined as\n",
    "$$ \\sum_{k, l} P_{k,l} \\log\\left(\\frac{P_{k,l}}{ P_k \\tilde P_l }\\right)\\,. $$\n",
    "\n",
    "For more information on evaluation metrics for clustering algorithms, checkout the [Scikit Learn page on Clustering Metrics](http://scikit-learn.org/stable/modules/clustering.html#clustering-evaluation)."
   ]
  },
  {
   "cell_type": "code",
   "execution_count": 12,
   "metadata": {},
   "outputs": [
    {
     "name": "stdout",
     "output_type": "stream",
     "text": [
      "Silhouette Score 0.351641137588\n",
      "Adjusted Mutual Information  0.560826030402\n",
      "Mutual Information  0.686961576597\n"
     ]
    }
   ],
   "source": [
    "from sklearn.cluster import KMeans\n",
    "from sklearn import metrics\n",
    "from sklearn import datasets\n",
    "\n",
    "# Fit KMeans onto the Iris dataset\n",
    "dataset = datasets.load_iris()\n",
    "X = dataset.data\n",
    "k_means = KMeans().fit(X)\n",
    "y = k_means.predict(X)\n",
    "\n",
    "# Compute Silhoutte score on clusters:\n",
    "print \"Silhouette Score\", metrics.silhouette_score(X, y, metric='euclidean')\n",
    "\n",
    "# Entropy\n",
    "labels_true = [1, 1, 0, 1, 2, 2, 1, 2, 0]\n",
    "labels_pred = [1, 0, 1, 1, 2, 1, 1, 2, 2]\n",
    "\n",
    "print \"Adjusted Mutual Information \", metrics.adjusted_mutual_info_score(labels_true, labels_pred)\n",
    "print \"Mutual Information \", metrics.mutual_info_score(labels_true, labels_pred)"
   ]
  },
  {
   "cell_type": "markdown",
   "metadata": {},
   "source": [
    "# Clustering\n",
    "\n",
    "## $K$-Means\n",
    "The specification of $K$-means is simple: assign a collection of clusters $C_k$ that minimize the distances from samples to cluster centroids:\n",
    "\n",
    "$$ \\mbox{argmin}_C \\sum_{k=1}^K \\sum_{X_j \\in C_k} \\| X_{j\\cdot} - \\mu_k \\|_2^2 $$\n",
    "\n",
    "where $\\mu_k$ is the center of the points in $C_k$.  The algorithm to implement this is simple:\n",
    "\n",
    "1. Initialize $\\mu_k$ (with possibly random values).  \n",
    "\n",
    "Then iterate between:\n",
    "   1. Assign $X_{j\\cdot}$ to the cluster $C_k$ that minimizes $\\|X_{j\\cdot} - \\mu_k\\|_2^2$.\n",
    "   1. Recompute $\\mu_k$ by averaging over all the points $X_{j\\cdot}$ in the cluster $C_k$.\n",
    "\n",
    "Notice that both iterative steps lower the objective (the algorithm is greedy) and there are only a finite number of possible partisions of the points $X_{j\\cdot}$ so the algorithm is gauranteed to converge.  The converged solution may not be globally optimal.\n",
    "\n",
    "## Gaussian Mixture Models\n",
    "We can generalize the notion of $K$-Means in two ways:\n",
    "1. Instead of requiring that each $X_{j\\cdot}$ strictly belong to a single $C_k$, we say it belongs to $C_k$ with a probability\n",
    "1. Insteading of just having $\\mu_k$ as a degree of freedom, we have the pair $(\\mu_k, \\Sigma_k)$\n",
    "\n",
    "Then each $X_{j\\cdot}$ is of type $k$ with probability proportional to\n",
    "$$ p_k \\exp \\left( \\frac{1}{2} (X_{j\\cdot} - \\mu_k) \\cdot \\Sigma_k^{-1}(X_{j\\cdot} - \\mu_k) \\right) $$\n",
    "where $p_k > 0$ is a proportionality constant.\n",
    "While this is not strictly a clustering algorithm, it can be turned into one but choosing the probability cluster with the highest probability.\n",
    "\n",
    "**Question**:\n",
    "1. For KMeans, what happens if the features have very different scales?\n",
    "1. Does this problem exist for Gaussian Mixture Models?"
   ]
  },
  {
   "cell_type": "code",
   "execution_count": 13,
   "metadata": {},
   "outputs": [
    {
     "data": {
      "text/plain": [
       "<matplotlib.axes._subplots.AxesSubplot at 0x10e456510>"
      ]
     },
     "execution_count": 13,
     "metadata": {},
     "output_type": "execute_result"
    },
    {
     "data": {
      "image/png": "[encoded data removed]",
      "text/plain": [
       "<matplotlib.figure.Figure at 0x10de25cd0>"
      ]
     },
     "metadata": {},
     "output_type": "display_data"
    }
   ],
   "source": [
    "%matplotlib inline\n",
    "\n",
    "from sklearn import cluster, mixture, datasets\n",
    "import pandas as pd\n",
    "\n",
    "# load Boston dataset\n",
    "diabetes = datasets.load_boston()\n",
    "\n",
    "columns = [\"CRIM\",\"ZN\",\"INDUS\",\"CHAS\",\"NOX\",\"RM\",\"AGE\",\"DIS\",\"RAD\",\"TAX\",\"PTRATIO\",\"B\",\"LSAT\"]\n",
    "X = pd.DataFrame(diabetes.data, columns=columns)\n",
    "y = pd.Series(diabetes.target)\n",
    "\n",
    "gmm_clf = mixture.GaussianMixture(n_components=3, random_state=42).fit(X)\n",
    "kmeans_clf = cluster.KMeans(n_clusters=3, random_state=42).fit(X)\n",
    "\n",
    "# Compute the Silhouette\n",
    "pd.DataFrame([\n",
    "    (\"Gaussian MM\",  metrics.silhouette_score(X, gmm_clf.predict(X), metric='euclidean')) ,\n",
    "    (\"KMeans\",  metrics.silhouette_score(X, kmeans_clf.labels_, metric='euclidean'))\n",
    "], columns=[\"Model\", \"Silhouette\"]).plot(x=\"Model\", y=\"Silhouette\", kind=\"bar\")\n"
   ]
  },
  {
   "cell_type": "markdown",
   "metadata": {},
   "source": [
    "**Exercise**:\n",
    "1. Normalize KMeans to improve performance use the scale function\n",
    "1. Test the potential energy criterion from earlier and graph it in the above plots"
   ]
  },
  {
   "cell_type": "markdown",
   "metadata": {},
   "source": [
    "# Spark ML\n",
    "\n",
    "Spark ML is a Spark's machine learning library based on Dataframes (it superceeds MLlib, which is based on RDDs, and now being deprecated). Some parts of Spark ML - for instance, linear algebra - still call to RDD based API, BLAS wrappers.\n",
    "\n",
    "Spark ML provides a standardized API for machine learning algorithms to make it easier to combine multiple algorithms into a single pipeline or workflow. Similarly to what you already know about `scikit-learn`.\n",
    "\n",
    "## Basic components of a Pipeline\n",
    "\n",
    "Basic components of the Pipeline (in the scikit-learn sense) are:\n",
    " 1. Transformer: an abstract class to apply a transformation to dataset/dataframes\n",
    "    1. `UnaryTransformer` abstract class: takes an input column, applies transformation, and output the result as a new column. The input and output columns can be arbitrary. However, in the Pipeline input column should be `features` output column should be named `prediction`.\n",
    "    1. `UnaryTransofmer` has a `transform()` method\n",
    "\n",
    " 1. Estimator: implements an algorithm which can be `fit` to a dataframe. For instance: a learning algorithm is an Estimator which is trained on a dataframe to produce a model.  \n",
    "    1. Has a `fit()` method\n",
    "\n",
    "1. Parameter: an API to pass parameters to Transformers and Estimators  \n",
    "\n",
    "In Spark ML, `KMeans` algorithm is implemented as an Estimator which generates a `KMeansModel` as the base model.\n"
   ]
  },
  {
   "cell_type": "code",
   "execution_count": 17,
   "metadata": {},
   "outputs": [],
   "source": [
    "#from pyspark.sql import SparkSession\n",
    "from pyspark.ml import Pipeline\n",
    "from pyspark.ml.clustering import BisectingKMeans, KMeans, GaussianMixture\n",
    "from pyspark.ml.feature import HashingTF, Tokenizer, NGram, IDF, StopWordsRemover\n",
    "from pyspark.sql import Row"
   ]
  },
  {
   "cell_type": "markdown",
   "metadata": {},
   "source": [
    "The dataset we are going to use for this exercise comes from **Kaggle**: https://www.kaggle.com/datasets/?sortBy=votes&group=featured\n",
    "\n",
    "It contains news articles on 2 topics, with associated label. We do not ahve to download it ourselves, as I have done it for you (along with some additional preprocessing)."
   ]
  },
  {
   "cell_type": "code",
   "execution_count": 123,
   "metadata": {
    "collapsed": true
   },
   "outputs": [],
   "source": [
    "import pandas as pd\n",
    "data_df = pd.read_csv(\"data/Articles.csv\",sep=\"|\")"
   ]
  },
  {
   "cell_type": "code",
   "execution_count": 124,
   "metadata": {},
   "outputs": [
    {
     "data": {
      "text/html": [
       "<div>\n",
       "<table border=\"1\" class=\"dataframe\">\n",
       "  <thead>\n",
       "    <tr style=\"text-align: right;\">\n",
       "      <th></th>\n",
       "      <th>CleanedArticle</th>\n",
       "      <th>NewsType</th>\n",
       "    </tr>\n",
       "  </thead>\n",
       "  <tbody>\n",
       "    <tr>\n",
       "      <th>0</th>\n",
       "      <td>KARACHI: The Sindh government has decided to b...</td>\n",
       "      <td>business</td>\n",
       "    </tr>\n",
       "    <tr>\n",
       "      <th>1</th>\n",
       "      <td>HONG KONG: Asian markets started 2015 on an up...</td>\n",
       "      <td>business</td>\n",
       "    </tr>\n",
       "    <tr>\n",
       "      <th>2</th>\n",
       "      <td>HONG KONG: Hong Kong shares opened 0.66 percen...</td>\n",
       "      <td>business</td>\n",
       "    </tr>\n",
       "    <tr>\n",
       "      <th>3</th>\n",
       "      <td>HONG KONG: Asian markets tumbled Tuesday follo...</td>\n",
       "      <td>business</td>\n",
       "    </tr>\n",
       "    <tr>\n",
       "      <th>4</th>\n",
       "      <td>NEW YORK: US oil prices Monday slipped below $...</td>\n",
       "      <td>business</td>\n",
       "    </tr>\n",
       "  </tbody>\n",
       "</table>\n",
       "</div>"
      ],
      "text/plain": [
       "                                      CleanedArticle  NewsType\n",
       "0  KARACHI: The Sindh government has decided to b...  business\n",
       "1  HONG KONG: Asian markets started 2015 on an up...  business\n",
       "2  HONG KONG: Hong Kong shares opened 0.66 percen...  business\n",
       "3  HONG KONG: Asian markets tumbled Tuesday follo...  business\n",
       "4  NEW YORK: US oil prices Monday slipped below $...  business"
      ]
     },
     "execution_count": 124,
     "metadata": {},
     "output_type": "execute_result"
    }
   ],
   "source": [
    "data_df.head()"
   ]
  },
  {
   "cell_type": "code",
   "execution_count": 125,
   "metadata": {},
   "outputs": [
    {
     "data": {
      "text/html": [
       "<div>\n",
       "<table border=\"1\" class=\"dataframe\">\n",
       "  <thead>\n",
       "    <tr style=\"text-align: right;\">\n",
       "      <th></th>\n",
       "      <th>CleanedArticle</th>\n",
       "      <th>NewsType</th>\n",
       "    </tr>\n",
       "  </thead>\n",
       "  <tbody>\n",
       "    <tr>\n",
       "      <th>count</th>\n",
       "      <td>2692</td>\n",
       "      <td>2692</td>\n",
       "    </tr>\n",
       "    <tr>\n",
       "      <th>unique</th>\n",
       "      <td>2584</td>\n",
       "      <td>2</td>\n",
       "    </tr>\n",
       "    <tr>\n",
       "      <th>top</th>\n",
       "      <td>strong&gt;KARACHI: Pakistan stocks ended at a rec...</td>\n",
       "      <td>sports</td>\n",
       "    </tr>\n",
       "    <tr>\n",
       "      <th>freq</th>\n",
       "      <td>5</td>\n",
       "      <td>1408</td>\n",
       "    </tr>\n",
       "  </tbody>\n",
       "</table>\n",
       "</div>"
      ],
      "text/plain": [
       "                                           CleanedArticle NewsType\n",
       "count                                                2692     2692\n",
       "unique                                               2584        2\n",
       "top     strong>KARACHI: Pakistan stocks ended at a rec...   sports\n",
       "freq                                                    5     1408"
      ]
     },
     "execution_count": 125,
     "metadata": {},
     "output_type": "execute_result"
    }
   ],
   "source": [
    "data_df.describe()"
   ]
  },
  {
   "cell_type": "code",
   "execution_count": 126,
   "metadata": {
    "collapsed": true
   },
   "outputs": [],
   "source": [
    "data = spark.read.options(header=True,inferSchema=True,delimiter=\"|\").csv(\"file:///Users/alexey/Desktop/codas-ml/data/Articles.csv\")"
   ]
  },
  {
   "cell_type": "code",
   "execution_count": 127,
   "metadata": {},
   "outputs": [
    {
     "name": "stdout",
     "output_type": "stream",
     "text": [
      "root\n",
      " |-- CleanedArticle: string (nullable = true)\n",
      " |-- NewsType: string (nullable = true)\n",
      "\n"
     ]
    }
   ],
   "source": [
    "data.printSchema()"
   ]
  },
  {
   "cell_type": "code",
   "execution_count": 128,
   "metadata": {},
   "outputs": [
    {
     "name": "stdout",
     "output_type": "stream",
     "text": [
      "+--------------------+--------+\n",
      "|      CleanedArticle|NewsType|\n",
      "+--------------------+--------+\n",
      "|KARACHI: The Sind...|business|\n",
      "|\"HONG KONG: Asian...|business|\n",
      "|HONG KONG: Hong K...|business|\n",
      "|\"HONG KONG: Asian...|business|\n",
      "|\"NEW YORK: US oil...|business|\n",
      "+--------------------+--------+\n",
      "only showing top 5 rows\n",
      "\n"
     ]
    }
   ],
   "source": [
    "data.show(5)"
   ]
  },
  {
   "cell_type": "markdown",
   "metadata": {},
   "source": [
    "We are going to use a standard natural language processing workflow for feature extraction, followed by the k-means clustering into 3 clusters.\n",
    "\n",
    "\n",
    "### Step 1.1.  Features: Bag of words (and variants)\n",
    "\n",
    "Learning algorithms like vectors of numbers, not text.  The simplest way to turn a text into a vector of number is to treat the text as a \"bag of words.\"  That is you\n",
    "\n",
    "  - Split the text into words\n",
    "  - Count how many times each word (/each word in some fixed vocabulary) occurs\n",
    "  - _(Optionally)_ normalize the counts against some baseline\n",
    "  - _(Variant)_ Just do a binary \"yes / no\" for whether each word (/.. in some vocabulary) is contained in the material\n",
    "  \n",
    "The output is a very large, but usually sparse, vector: The number of coordinates is the number of words in our dictionary, and the $i$-th coordinate entry is the number of occurances of the $i$-th word.\n",
    "\n",
    "There's a reasonable implementation of this in the CountVectorizer class in `sklearn.feature_extraction.text`.  See http://scikit-learn.org/stable/modules/classes.html#text-feature-extraction-ref for more detail on the options.\n",
    "\n",
    "\n",
    "#### Variation: Feature hashing\n",
    "\n",
    "When doing \"bag of words\" type techniques on a *large* corpus and without an existing vocabulary, there is a simple trick that is often useful.  The issue (and solution) is as follows: \n",
    "\n",
    " - The output is a feature vector, so that whenever we encounter a word we must look up which coordinate slot it is in.  A naive way would be to keep a list of all the words encoutered so far, and look up each word when it is encountered.  Whenever we encounter a new word, we see if we've already seen it before and if not -- assign it a new number.  This requires storing all the words that we have seen in memory, cannot be done in parallel (because we'd have to share the hash-table of seen words), etc.\n",
    " - A **hash function** takes as input something complicated (like a string) and spits out a number, with the desired property being that different inputs *usually* produce different outputs.  (This is how hash tables are implemented, as the name suggests.)\n",
    " - So -- rather than exactly looking up the coordinate of a given word, we can just use its hash value (modulo a big size that we choose).  This is fast and parallelizes easily.  (There are some downsides: You cannot tell, after the fact, what word each of your feature actually corresponds to!)\n",
    " \n",
    "Scikit-learn includes `sklearn.feature_extraction.text.HashingVectorizer` to do this.  It behaves as almost a drop-in replacement for `CountVectorizer`.  It can be used with tf-idf by combining it with the `TfidfTransformer` (the `TfidfVectorizer` is the `CountVectorizer` together with the `TfidfTransformer`). For our application (where the training and test data is small), we may as well just use `TfidfVectorizer` -- but it is good to know that `HashingVectorizer` is there.\n",
    "\n",
    "\n",
    "### Step 1.2 Stop words\n",
    "It's common to want to __omit__ certain common words when doing these counts -- \"a\", \"an\", and \"the\" are common enough so that their counts do not tend to give us any hints as to the meaning of documents.  Such words that we want to omit are called __stop words__ (they don't stop anything, though).\n",
    "\n",
    "NLTK contains a standard list of such stop words for English in `nltk.corpus.stopwords.words('english')`.  In our application, we'd also want to include \"apple\" -- it is certainly not going to help us distinguish our two meanings!\n",
    "\n",
    "### Step 1.3 n-grams\n",
    "\n",
    "Instead of looking at just single words, it is also useful to look at **n-grams**: These are n-word long sequences of words (i.e., each of \"farmer's market\", \"market share\", and \"farm share\" is a 2-gram).\n",
    "\n",
    "The exact same sort of counting techniques apply.  The `CountVectorizer` function has built in support for this, too:\n",
    "\n",
    "If you pass it the `ngram_range=(m, M)` then it will count $n$-grams with  $m \\leq n \\leq M$.\n",
    "\n",
    "### Step 1.4 TF-IDF: term frequency–inverse document frequency\n",
    "\n",
    "With single word vocabularies, we can probably do an okay job of coming up with a reasonable (if short) list of words that distinguish between the two documents.  With n-grams, even for $n=2$, it is better to let a computer help us.  \n",
    "\n",
    "Just using frequencies, as above, is clearly not great.  Both apples the fruit and Apple the company are enjoyed around the world (one of the 2-grams that came up above!).  We would like to find words that are common in one document, not not common in all of them.  This is the goal of the __td-idf weighting__.  A precise definition is:\n",
    "\n",
    "  1. If $d$ denotes a document and $t$ denotes a term, then the _raw term frequency_ $\\mathrm{tf}^{raw}(t,d)$ is\n",
    "  $$ \\mathrm{tf}^{raw}(t,d) = \\text{the number of times the term $t$ occurs in the document $d$} $$\n",
    "  The vector of all term frequencies can optionally be _normalized_ either by dividing by the maximum of ny single word's occurance count ($L^1$) or by the Euclidean length of the vector of word occurance counts ($L^2$).  Scikit-learn by defaults does this second one:\n",
    "  $$ \\mathrm{tf}(t,d) = \\mathrm{tf}^{L^2}(t,d) = \\frac{\\mathrm{tf}^{raw}(t,d)}{\\sqrt{\\sum_t \\mathrm{tf}^{raw}(t,d)^2}} $$\n",
    "  2. If $$ D = \\left\\{ d : d \\in D \\right\\} $$ is the set of possible documents, then  the _inverse document frequency_ is\n",
    "  $$ \\mathrm{idf}^{naive}(t,D) = \\log \\frac{\\# D}{\\# \\{d \\in D : t \\in d\\}} \\\\\n",
    "  = \\log \\frac{\\text{count of all documents}}{\\text{count of those documents containing the term $t$}} $$\n",
    "  with a common variant being\n",
    "  $$ \\mathrm{idf}(t, D) = \\log \\frac{\\# D}{1 + \\# \\{d \\in D : t \\in d\\}} \\\\\n",
    "   = \\log \\frac{\\text{count of all documents}}{1 + \\text{count of those documents containing the term $t$}} $$\n",
    "  (This second one is the default in scikit-learn. Without this tweak we would omit the $1+$ in the denominator and have to worry about dividing by zero if $t$ is not found in any documents.)\n",
    "  3. Finally, the weight that we assign to the term $t$ appearing in document $d$ and depending on the corpus of all documents $D$ is\n",
    "  $$ \\mathrm{tfidf}(t,d,D) = \\mathrm{tf}(t,d) \\mathrm{idf}(t,D) $$\n",
    "\n",
    "\n",
    "Putting it all together in Spark ML is very simple:"
   ]
  },
  {
   "cell_type": "code",
   "execution_count": null,
   "metadata": {
    "collapsed": true
   },
   "outputs": [],
   "source": []
  },
  {
   "cell_type": "code",
   "execution_count": 137,
   "metadata": {},
   "outputs": [],
   "source": [
    "# Configure an ML pipeline\n",
    "\n",
    "tokenizer = Tokenizer(inputCol=\"CleanedArticle\", outputCol=\"words\")\n",
    "remover = StopWordsRemover(inputCol=tokenizer.getOutputCol(),outputCol=\"filtered\")   \n",
    "hashingTF = HashingTF(inputCol=remover.getOutputCol(), outputCol=\"features\",numFeatures=1048576)\n",
    "#idf = IDF(inputCol=hashingTF.getOutputCol(),outputCol=\"features\")\n",
    "\n",
    "#Try KMeans and BisectingKMeans\n",
    "kmeans = KMeans().setK(2).setSeed(1) #.setMaxIter(50)\n",
    "pipeline = Pipeline(stages=[tokenizer, remover, hashingTF, kmeans])\n",
    "\n",
    "# Fit the pipeline to training documents.\n",
    "model = pipeline.fit(data)\n",
    "\n",
    "# Make predictions on test documents and print columns of interest.\n",
    "prediction = model.transform(data)\n",
    "selected = prediction.select(\"NewsType\", \"CleanedArticle\", \"prediction\")"
   ]
  },
  {
   "cell_type": "code",
   "execution_count": 138,
   "metadata": {},
   "outputs": [
    {
     "name": "stdout",
     "output_type": "stream",
     "text": [
      "+--------+--------------------+----------+\n",
      "|NewsType|      CleanedArticle|prediction|\n",
      "+--------+--------------------+----------+\n",
      "|business|KARACHI: The Sind...|         0|\n",
      "|business|\"HONG KONG: Asian...|         1|\n",
      "|business|HONG KONG: Hong K...|         0|\n",
      "|business|\"HONG KONG: Asian...|         1|\n",
      "|business|\"NEW YORK: US oil...|         1|\n",
      "|business|\"New York: Oil pr...|         1|\n",
      "|business|KARACHI: Strong b...|         0|\n",
      "|business|\"Singapore: Oil f...|         1|\n",
      "|business|KARACHI: Wholesal...|         0|\n",
      "|business|\"SYDNEY: Oil pric...|         1|\n",
      "|business|TOKYO: Tokyo stoc...|         1|\n",
      "|business|HONG KONG: Hong K...|         0|\n",
      "|business|\"London: World oi...|         1|\n",
      "|business|\"ISLAMABAD: Long ...|         0|\n",
      "|business|\"SINGAPORE: Brent...|         1|\n",
      "|business|ISLAMABAD: A two ...|         0|\n",
      "|business|ISLAMABAD: The Na...|         0|\n",
      "|business|\"Hong Kong: Asian...|         1|\n",
      "|business|ISLAMABAD: The Ec...|         0|\n",
      "|business|\"SINGAPORE: Saudi...|         1|\n",
      "+--------+--------------------+----------+\n",
      "only showing top 20 rows\n",
      "\n"
     ]
    }
   ],
   "source": [
    "selected.show()"
   ]
  },
  {
   "cell_type": "markdown",
   "metadata": {},
   "source": [
    "***Exercise***\n",
    " 1. Add **IDF** weighting to the pipeline\n",
    " 1. Try using `BisectingKMeans` instead of `KMeans` clustering"
   ]
  },
  {
   "cell_type": "markdown",
   "metadata": {},
   "source": [
    "Next, we are going to try using n-grams instead of unigram features. And, perhaps, combine the two.\n",
    "The changes to the code are minimal:"
   ]
  },
  {
   "cell_type": "code",
   "execution_count": null,
   "metadata": {
    "collapsed": true
   },
   "outputs": [],
   "source": [
    "# Configure an ML pipeline, which consists of tree stages: tokenizer, hashingTF, and lr.\n",
    "tokenizer = Tokenizer(inputCol=\"text\", outputCol=\"words\")\n",
    "remover = StopWordsRemover(inputCol=tokenizer.getOutputCol(),outputCol=\"filtered\")   \n",
    "ngram = NGram(n=2, inputCol=remover.getOutputCol(),outputCol=\"ngram\")\n",
    "hashingTF = HashingTF(inputCol=ngram.getOutputCol(), outputCol=\"bigrams\",numFeatures=1048576)\n",
    "#idf = IDF(inputCol=hashingTF.getOutputCol(),outputCol=\"features\")\n",
    "\n",
    "kmeans = KMeans().setK(4).setSeed(1) #.setMaxIter(50)\n",
    "pipeline = Pipeline(stages=[tokenizer, remover, ngram, hashingTF, kmeans])\n",
    "\n",
    "# Fit the pipeline to training documents.\n",
    "model = pipeline.fit(data)\n",
    "\n",
    "# Make predictions on test documents and print columns of interest.\n",
    "prediction = model.transform(data)\n",
    "selected = prediction.select(\"id\", \"text\", \"prediction\")\n",
    "selected.show()"
   ]
  },
  {
   "cell_type": "markdown",
   "metadata": {},
   "source": [
    "Finally, combine the two using the `VectorAssembler` (this will be more memory consuming):"
   ]
  },
  {
   "cell_type": "code",
   "execution_count": 16,
   "metadata": {
    "collapsed": true
   },
   "outputs": [],
   "source": [
    "from pyspark.ml.feature import VectorAssembler"
   ]
  },
  {
   "cell_type": "code",
   "execution_count": null,
   "metadata": {
    "collapsed": true
   },
   "outputs": [],
   "source": [
    "# Configure an ML pipeline, which consists of tree stages: tokenizer, hashingTF, and lr.\n",
    "tokenizer = Tokenizer(inputCol=\"text\", outputCol=\"words\")\n",
    "remover = StopWordsRemover(inputCol=tokenizer.getOutputCol(),outputCol=\"filtered\")   \n",
    "ngram = NGram(n=2, inputCol=remover.getOutputCol(),outputCol=\"ngram\")\n",
    "hashingTF1 = HashingTF(inputCol=remover.getOutputCol(), outputCol=\"unigrams\") #,numFeatures=1048576)\n",
    "hashingTF2 = HashingTF(inputCol=ngram.getOutputCol(), outputCol=\"bigrams\") #,numFeatures=1048576)\n",
    "assembler = VectorAssembler(inputCols=[\"unigrams\", \"bigrams\"], outputCol=\"features\")\n",
    "#idf = IDF(inputCol=hashingTF.getOutputCol(),outputCol=\"features\")\n",
    "\n",
    "kmeans = KMeans().setK(4).setSeed(1) #.setMaxIter(50)\n",
    "pipeline = Pipeline(stages=[tokenizer, remover, ngram, hashingTF1, hashingTF2, assembler, kmeans])\n",
    "\n",
    "# Fit the pipeline to training documents.\n",
    "model = pipeline.fit(data)\n",
    "\n",
    "# Make predictions on test documents and print columns of interest.\n",
    "prediction = model.transform(data)\n",
    "selected = prediction.select(\"id\", \"text\", \"prediction\")\n",
    "selected.show()"
   ]
  }
 ],
 "metadata": {
  "anaconda-cloud": {},
  "kernelspec": {
   "display_name": "Python 2",
   "language": "python",
   "name": "python2"
  },
  "language_info": {
   "codemirror_mode": {
    "name": "ipython",
    "version": 2
   },
   "file_extension": ".py",
   "mimetype": "text/x-python",
   "name": "python",
   "nbconvert_exporter": "python",
   "pygments_lexer": "ipython2",
   "version": "2.7.13"
  }
 },
 "nbformat": 4,
 "nbformat_minor": 1
}
